{
 "cells": [
  {
   "cell_type": "code",
   "execution_count": 1,
   "metadata": {},
   "outputs": [],
   "source": [
    "def fourpointphase(Im1,Im2,Im3,Im4):\n",
    "    #phase of each pixel, paramters are names of saved pictures as strings\n",
    "    Im1 = Image.open(Im1)\n",
    "    arr1 = numpy.array(Im1)\n",
    "    Im2 = Image.open(Im2)\n",
    "    arr2 = numpy.array(Im2) \n",
    "    Im3 = Image.open(Im3)\n",
    "    arr3 = numpy.array(Im3)\n",
    "    Im4 = Image.open(Im4)\n",
    "    arr4 = numpy.array(Im4)\n",
    "    #converts to numpy arrays for faster operation\n",
    "    \n",
    "    num = arr4 - arr2\n",
    "    den = arr1 - arr3 #performs operations on arrays themselves without iterating through specific pixels\n",
    "    zeroden = (den == 0) #provides a case for a zero denominator\n",
    "    num[zeroden] = 0\n",
    "    den[zeroden] = 1\n",
    "    phase = numpy.arctan(num / den)\n",
    " \n",
    "    return phase\n",
    "#This code returns 100 phase plots in slightly less than 20 seconds"
   ]
  },
  {
   "cell_type": "code",
   "execution_count": null,
   "metadata": {},
   "outputs": [],
   "source": []
  }
 ],
 "metadata": {
  "kernelspec": {
   "display_name": "Python 3",
   "language": "python",
   "name": "python3"
  },
  "language_info": {
   "codemirror_mode": {
    "name": "ipython",
    "version": 3
   },
   "file_extension": ".py",
   "mimetype": "text/x-python",
   "name": "python",
   "nbconvert_exporter": "python",
   "pygments_lexer": "ipython3",
   "version": "3.7.3"
  }
 },
 "nbformat": 4,
 "nbformat_minor": 2
}
